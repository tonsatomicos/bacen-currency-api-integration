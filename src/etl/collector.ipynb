{
 "cells": [
  {
   "cell_type": "markdown",
   "metadata": {},
   "source": [
    "### Importing Libraries"
   ]
  },
  {
   "cell_type": "code",
   "execution_count": 73,
   "metadata": {},
   "outputs": [],
   "source": [
    "import requests\n",
    "import pandas as pd\n",
    "import datetime\n",
    "\n",
    "from sqlalchemy import create_engine, text"
   ]
  },
  {
   "cell_type": "markdown",
   "metadata": {},
   "source": [
    "### Collector"
   ]
  },
  {
   "cell_type": "code",
   "execution_count": 74,
   "metadata": {},
   "outputs": [],
   "source": [
    "class Collector:\n",
    "    def __init__(self, start_date, end_date, coin, dbuser, dbpass, dbname, dblocal, dbtable):\n",
    "        self.start_date = start_date\n",
    "        self.end_date = end_date\n",
    "        self.coin = coin\n",
    "        self.dataframe = None\n",
    "        self.collector_checkin = False\n",
    "        self.transform_checkin = False\n",
    "        self.dbuser = dbuser\n",
    "        self.dbpass = dbpass\n",
    "        self.dbname = dbname\n",
    "        self.dblocal = dblocal\n",
    "        self.dbtable = dbtable\n",
    "\n",
    "    def collector(self):\n",
    "        try:\n",
    "            api_url = f\"https://olinda.bcb.gov.br/olinda/servico/PTAX/versao/v1/odata/CotacaoMoedaPeriodo(moeda=@moeda,dataInicial=@dataInicial,dataFinalCotacao=@dataFinalCotacao)?@moeda='{self.coin}'&@dataInicial='{self.start_date}'&@dataFinalCotacao='{self.end_date}'&$top=10000&$filter=tipoBoletim%20eq%20'Fechamento'&$format=json&$select=cotacaoCompra,cotacaoVenda,dataHoraCotacao,tipoBoletim\"\n",
    "            response = requests.get(api_url)\n",
    "            response.raise_for_status()\n",
    "\n",
    "            if response.status_code == 200:\n",
    "                data = response.json()\n",
    "                df = pd.DataFrame(data)\n",
    "                if not df.empty:\n",
    "                    self.dataframe = pd.json_normalize(df['value'])\n",
    "                    self.collector_checkin = True\n",
    "            else:\n",
    "                print('Failed to get data from API.')\n",
    "                \n",
    "        except requests.exceptions.RequestException as e:\n",
    "            print('Failed to get data from API. Error: ', e)\n",
    "        \n",
    "        finally:\n",
    "            if 'response' in locals():\n",
    "                response.close()\n",
    "\n",
    "    def transform(self):\n",
    "        try:\n",
    "            datetime_now = datetime.datetime.now()\n",
    "            self.dataframe['SK_DATA'] = pd.to_datetime(self.dataframe['dataHoraCotacao']).dt.strftime('%Y%m%d')\n",
    "            \n",
    "            drop_columns = ['dataHoraCotacao','tipoBoletim']\n",
    "            self.dataframe = self.dataframe.drop(columns=drop_columns)\n",
    "\n",
    "            df_buy = pd.DataFrame({'SK_DATA':self.dataframe['SK_DATA'],'INDICADOR':'Euro/Compra',\n",
    "                            'VALOR_DIA':self.dataframe['cotacaoCompra'],'DTA_CADASTRO':datetime_now})\n",
    "\n",
    "            df_sell = pd.DataFrame({'SK_DATA':self.dataframe['SK_DATA'],'INDICADOR':'Euro/Venda',\n",
    "                            'VALOR_DIA':self.dataframe['cotacaoVenda'],'DTA_CADASTRO':datetime_now})\n",
    "\n",
    "            df_final = pd.concat([df_buy, df_sell], ignore_index=False)\n",
    "            self.dataframe = df_final.sort_values(by='SK_DATA') \n",
    "            self.transform_checkin = True\n",
    "\n",
    "        except Exception as e:\n",
    "            print('Error when applying transformations: ', e) \n",
    "\n",
    "    def load(self):\n",
    "        try:  \n",
    "            engine = create_engine(f'postgresql+psycopg2://{self.dbuser}:{self.dbpass}@{self.dblocal}/{self.dbname}')\n",
    "            conn = engine.connect()\n",
    "            table_name = self.dbtable\n",
    "\n",
    "            for index, row in self.dataframe.iterrows():\n",
    "                query = text(f\"\"\"\n",
    "                    INSERT INTO {table_name} (sk_data, indicador, valor_dia, dt_cadastro) VALUES ('{row['SK_DATA']}', '{row['INDICADOR']}', '{row['VALOR_DIA']}', '{row['DTA_CADASTRO']}')\n",
    "                    ON CONFLICT (sk_data, indicador) DO UPDATE \n",
    "                    SET valor_dia = EXCLUDED.valor_dia,\n",
    "                        dt_cadastro = EXCLUDED.dt_cadastro\n",
    "                    WHERE {table_name}.valor_dia <> EXCLUDED.valor_dia;\n",
    "                    \"\"\")\n",
    "                conn.execute(query)\n",
    "                conn.commit()\n",
    "\n",
    "        except Exception as e:\n",
    "            print(f\"Error when inserting: {e}\")\n",
    "            conn.rollback()\n",
    "\n",
    "        finally:\n",
    "            if 'conn' in locals():\n",
    "                    conn.close()                "
   ]
  },
  {
   "cell_type": "markdown",
   "metadata": {},
   "source": [
    "### Orchestrator"
   ]
  },
  {
   "cell_type": "code",
   "execution_count": 79,
   "metadata": {},
   "outputs": [],
   "source": [
    "def main():\n",
    "    start_date = '02-01-2016'\n",
    "    end_date = '04-01-2024'\n",
    "    coin = 'EUR'\n",
    "    dbuser = 'teste'\n",
    "    dbpass = 'teste'\n",
    "    dbname = 'teste_db'\n",
    "    dblocal = 'localhost:5437'\n",
    "    dbtable = 'public.ptax'\n",
    "\n",
    "    obj = Collector(start_date, end_date, coin, dbuser, dbpass, dbname, dblocal, dbtable)\n",
    "    collector = obj.collector()\n",
    "    \n",
    "    if obj.collector_checkin:\n",
    "        obj.transform()\n",
    "        if obj.transform_checkin:\n",
    "            obj.load()\n",
    "        else:\n",
    "            print(\"Transformation failure.\")\n",
    "    else:\n",
    "        print(\"Collection failure or unavailable information.\")"
   ]
  },
  {
   "cell_type": "code",
   "execution_count": 80,
   "metadata": {},
   "outputs": [],
   "source": [
    "if __name__ == \"__main__\":\n",
    "    main()"
   ]
  }
 ],
 "metadata": {
  "kernelspec": {
   "display_name": "Python 3 (ipykernel)",
   "language": "python",
   "name": "python3"
  },
  "language_info": {
   "codemirror_mode": {
    "name": "ipython",
    "version": 3
   },
   "file_extension": ".py",
   "mimetype": "text/x-python",
   "name": "python",
   "nbconvert_exporter": "python",
   "pygments_lexer": "ipython3",
   "version": "3.12.1"
  }
 },
 "nbformat": 4,
 "nbformat_minor": 4
}
