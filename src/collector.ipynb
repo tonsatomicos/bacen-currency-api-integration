{
 "cells": [
  {
   "cell_type": "markdown",
   "metadata": {},
   "source": [
    "### Importing Libraries"
   ]
  },
  {
   "cell_type": "code",
   "execution_count": null,
   "metadata": {},
   "outputs": [],
   "source": [
    "\n",
    "import requests\n",
    "import json\n",
    "import pandas as pd\n",
    "import time, datetime"
   ]
  },
  {
   "cell_type": "code",
   "execution_count": 30,
   "metadata": {},
   "outputs": [],
   "source": [
    "class Collector:\n",
    "    def __init__(self, start_date, end_date, coin):\n",
    "        self.start_date = start_date\n",
    "        self.end_date = end_date\n",
    "        self.coin = coin\n",
    "\n",
    "    def a(self):\n",
    "        try:\n",
    "            api_url = f\"https://olinda.bcb.gov.br/olinda/servico/PTAX/versao/v1/odata/CotacaoMoedaPeriodo(moeda=@moeda,dataInicial=@dataInicial,dataFinalCotacao=@dataFinalCotacao)?@moeda='{self.coin}'&@dataInicial='{self.start_date}'&@dataFinalCotacao='{self.end_date}'&$top=10000&$filter=tipoBoletim%20eq%20'Fechamento'&$format=json&$select=cotacaoCompra,cotacaoVenda,dataHoraCotacao,tipoBoletim\"\n",
    "            response = requests.get(api_url)\n",
    "            response.raise_for_status()\n",
    "            \n",
    "            if response.status_code == 200:\n",
    "                data = response.json()\n",
    "                folder_filename = \"C:/Tecnology/Projects/bacen-ptax-data-processing/data/raw/ptax_data\"\n",
    "                with open(folder_filename, \"w\") as file:\n",
    "                    json.dump(data, file)\n",
    "            else:\n",
    "                print('Failed to get data from API.')\n",
    "                \n",
    "        except requests.exceptions.RequestException as e:\n",
    "            print('Failed to get data from API. Error: ', e)\n",
    "\n",
    "\n",
    "    \n",
    "        \n",
    "    "
   ]
  }
 ],
 "metadata": {
  "kernelspec": {
   "display_name": "Python 3 (ipykernel)",
   "language": "python",
   "name": "python3"
  },
  "language_info": {
   "codemirror_mode": {
    "name": "ipython",
    "version": 3
   },
   "file_extension": ".py",
   "mimetype": "text/x-python",
   "name": "python",
   "nbconvert_exporter": "python",
   "pygments_lexer": "ipython3",
   "version": "3.12.1"
  }
 },
 "nbformat": 4,
 "nbformat_minor": 4
}
